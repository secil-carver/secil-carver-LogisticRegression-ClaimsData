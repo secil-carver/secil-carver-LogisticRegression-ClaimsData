{
 "cells": [
  {
   "cell_type": "markdown",
   "metadata": {
    "id": "5HdoyihVgy6G"
   },
   "source": [
    "**Import the relevant libraries**"
   ]
  },
  {
   "cell_type": "code",
   "execution_count": 1,
   "metadata": {
    "colab": {
     "base_uri": "https://localhost:8080/"
    },
    "id": "y0UGCl_eg4Cj",
    "outputId": "f7160b1e-37be-4306-80d2-a449b0447b42"
   },
   "outputs": [],
   "source": [
    "import pandas as pd\n",
    "import numpy as np\n",
    "\n",
    "import statsmodels.api as sm \n"
   ]
  },
  {
   "cell_type": "markdown",
   "metadata": {
    "id": "vBvHYbegh1my"
   },
   "source": [
    "**Import the two datasets**"
   ]
  },
  {
   "cell_type": "code",
   "execution_count": 4,
   "metadata": {
    "id": "AS8Ir2tToLj2"
   },
   "outputs": [],
   "source": [
    "raw_data1 = pd.read_csv('/data/OBGYN_practice_dataset.csv')\n",
    "OBGYN_category_v2 = pd.read_csv('data/OBGYN_categories_v2.csv')"
   ]
  },
  {
   "cell_type": "markdown",
   "metadata": {
    "id": "WWlvbqEhso64"
   },
   "source": [
    "**Merge the two dataframes in order to get the alternative categorization**"
   ]
  },
  {
   "cell_type": "code",
   "execution_count": 5,
   "metadata": {
    "id": "p2kLKd7TsvF2"
   },
   "outputs": [],
   "source": [
    "merged = pd.merge(raw_data1, OBGYN_category_v2, on=\"procedure_concept_id\")\n"
   ]
  },
  {
   "cell_type": "markdown",
   "metadata": {
    "id": "PdFxsr4tjgk9"
   },
   "source": [
    "**Inspect the dataset**"
   ]
  },
  {
   "cell_type": "code",
   "execution_count": 6,
   "metadata": {
    "id": "Mn5SmyoKb4Yf"
   },
   "outputs": [
    {
     "data": {
      "text/html": [
       "<div>\n",
       "<style scoped>\n",
       "    .dataframe tbody tr th:only-of-type {\n",
       "        vertical-align: middle;\n",
       "    }\n",
       "\n",
       "    .dataframe tbody tr th {\n",
       "        vertical-align: top;\n",
       "    }\n",
       "\n",
       "    .dataframe thead th {\n",
       "        text-align: right;\n",
       "    }\n",
       "</style>\n",
       "<table border=\"1\" class=\"dataframe\">\n",
       "  <thead>\n",
       "    <tr style=\"text-align: right;\">\n",
       "      <th></th>\n",
       "      <th>person_id</th>\n",
       "      <th>procedure_date</th>\n",
       "      <th>procedure_concept_id</th>\n",
       "      <th>concept_name_x</th>\n",
       "      <th>amount</th>\n",
       "      <th>total_paid</th>\n",
       "      <th>provider_id</th>\n",
       "      <th>provider_name</th>\n",
       "      <th>category according to domain expert</th>\n",
       "      <th>category according to process mining</th>\n",
       "      <th>concept_name_y</th>\n",
       "    </tr>\n",
       "  </thead>\n",
       "  <tbody>\n",
       "    <tr>\n",
       "      <th>0</th>\n",
       "      <td>11248</td>\n",
       "      <td>8/3/20</td>\n",
       "      <td>2004407</td>\n",
       "      <td>Amputation of cervix</td>\n",
       "      <td>1</td>\n",
       "      <td>839</td>\n",
       "      <td>45192</td>\n",
       "      <td>Baptist Health &amp; Medical Center</td>\n",
       "      <td>Procedure</td>\n",
       "      <td>Gynaecology</td>\n",
       "      <td>Amputation of cervix</td>\n",
       "    </tr>\n",
       "    <tr>\n",
       "      <th>1</th>\n",
       "      <td>11874</td>\n",
       "      <td>4/6/20</td>\n",
       "      <td>2004407</td>\n",
       "      <td>Amputation of cervix</td>\n",
       "      <td>1</td>\n",
       "      <td>839</td>\n",
       "      <td>52356</td>\n",
       "      <td>Boudica Female Care</td>\n",
       "      <td>Procedure</td>\n",
       "      <td>Gynaecology</td>\n",
       "      <td>Amputation of cervix</td>\n",
       "    </tr>\n",
       "    <tr>\n",
       "      <th>2</th>\n",
       "      <td>12745</td>\n",
       "      <td>12/20/19</td>\n",
       "      <td>2004407</td>\n",
       "      <td>Amputation of cervix</td>\n",
       "      <td>1</td>\n",
       "      <td>839</td>\n",
       "      <td>24023</td>\n",
       "      <td>dr. Mariano &amp; Co.</td>\n",
       "      <td>Procedure</td>\n",
       "      <td>Gynaecology</td>\n",
       "      <td>Amputation of cervix</td>\n",
       "    </tr>\n",
       "    <tr>\n",
       "      <th>3</th>\n",
       "      <td>13133</td>\n",
       "      <td>7/29/19</td>\n",
       "      <td>2004407</td>\n",
       "      <td>Amputation of cervix</td>\n",
       "      <td>1</td>\n",
       "      <td>839</td>\n",
       "      <td>24023</td>\n",
       "      <td>dr. Mariano &amp; Co.</td>\n",
       "      <td>Procedure</td>\n",
       "      <td>Gynaecology</td>\n",
       "      <td>Amputation of cervix</td>\n",
       "    </tr>\n",
       "    <tr>\n",
       "      <th>4</th>\n",
       "      <td>13844</td>\n",
       "      <td>8/31/20</td>\n",
       "      <td>2004407</td>\n",
       "      <td>Amputation of cervix</td>\n",
       "      <td>1</td>\n",
       "      <td>839</td>\n",
       "      <td>45192</td>\n",
       "      <td>Baptist Health &amp; Medical Center</td>\n",
       "      <td>Procedure</td>\n",
       "      <td>Gynaecology</td>\n",
       "      <td>Amputation of cervix</td>\n",
       "    </tr>\n",
       "  </tbody>\n",
       "</table>\n",
       "</div>"
      ],
      "text/plain": [
       "   person_id procedure_date  procedure_concept_id        concept_name_x  \\\n",
       "0      11248         8/3/20               2004407  Amputation of cervix   \n",
       "1      11874         4/6/20               2004407  Amputation of cervix   \n",
       "2      12745       12/20/19               2004407  Amputation of cervix   \n",
       "3      13133        7/29/19               2004407  Amputation of cervix   \n",
       "4      13844        8/31/20               2004407  Amputation of cervix   \n",
       "\n",
       "   amount  total_paid  provider_id                    provider_name  \\\n",
       "0       1         839        45192  Baptist Health & Medical Center   \n",
       "1       1         839        52356              Boudica Female Care   \n",
       "2       1         839        24023                dr. Mariano & Co.   \n",
       "3       1         839        24023                dr. Mariano & Co.   \n",
       "4       1         839        45192  Baptist Health & Medical Center   \n",
       "\n",
       "  category according to domain expert category according to process mining  \\\n",
       "0                           Procedure                          Gynaecology   \n",
       "1                           Procedure                          Gynaecology   \n",
       "2                           Procedure                          Gynaecology   \n",
       "3                           Procedure                          Gynaecology   \n",
       "4                           Procedure                          Gynaecology   \n",
       "\n",
       "         concept_name_y  \n",
       "0  Amputation of cervix  \n",
       "1  Amputation of cervix  \n",
       "2  Amputation of cervix  \n",
       "3  Amputation of cervix  \n",
       "4  Amputation of cervix  "
      ]
     },
     "execution_count": 6,
     "metadata": {},
     "output_type": "execute_result"
    }
   ],
   "source": [
    "merged.head()"
   ]
  },
  {
   "cell_type": "markdown",
   "metadata": {
    "id": "dpftEYOrsigz"
   },
   "source": [
    "**Create a pivot table**"
   ]
  },
  {
   "cell_type": "code",
   "execution_count": 7,
   "metadata": {
    "id": "xnr2Pp8Qsn20"
   },
   "outputs": [],
   "source": [
    "pivot = pd.pivot_table(merged, values = 'amount', index=['person_id'], \n",
    "                       columns = 'category according to process mining',aggfunc=np.sum).reset_index()"
   ]
  },
  {
   "cell_type": "markdown",
   "metadata": {
    "id": "2igB0qy-iAdC"
   },
   "source": [
    "**Inspect the pivot table**"
   ]
  },
  {
   "cell_type": "code",
   "execution_count": 8,
   "metadata": {
    "id": "dpKHwtsrc4Lr"
   },
   "outputs": [
    {
     "data": {
      "text/html": [
       "<div>\n",
       "<style scoped>\n",
       "    .dataframe tbody tr th:only-of-type {\n",
       "        vertical-align: middle;\n",
       "    }\n",
       "\n",
       "    .dataframe tbody tr th {\n",
       "        vertical-align: top;\n",
       "    }\n",
       "\n",
       "    .dataframe thead th {\n",
       "        text-align: right;\n",
       "    }\n",
       "</style>\n",
       "<table border=\"1\" class=\"dataframe\">\n",
       "  <thead>\n",
       "    <tr style=\"text-align: right;\">\n",
       "      <th>category according to process mining</th>\n",
       "      <th>person_id</th>\n",
       "      <th>Consultation</th>\n",
       "      <th>Delivery</th>\n",
       "      <th>Gynaecology</th>\n",
       "      <th>Obstetrics</th>\n",
       "    </tr>\n",
       "  </thead>\n",
       "  <tbody>\n",
       "    <tr>\n",
       "      <th>0</th>\n",
       "      <td>10429</td>\n",
       "      <td>4.0</td>\n",
       "      <td>NaN</td>\n",
       "      <td>3.0</td>\n",
       "      <td>NaN</td>\n",
       "    </tr>\n",
       "    <tr>\n",
       "      <th>1</th>\n",
       "      <td>10430</td>\n",
       "      <td>10.0</td>\n",
       "      <td>1.0</td>\n",
       "      <td>NaN</td>\n",
       "      <td>8.0</td>\n",
       "    </tr>\n",
       "    <tr>\n",
       "      <th>2</th>\n",
       "      <td>10431</td>\n",
       "      <td>9.0</td>\n",
       "      <td>1.0</td>\n",
       "      <td>NaN</td>\n",
       "      <td>7.0</td>\n",
       "    </tr>\n",
       "    <tr>\n",
       "      <th>3</th>\n",
       "      <td>10432</td>\n",
       "      <td>6.0</td>\n",
       "      <td>NaN</td>\n",
       "      <td>NaN</td>\n",
       "      <td>6.0</td>\n",
       "    </tr>\n",
       "    <tr>\n",
       "      <th>4</th>\n",
       "      <td>10433</td>\n",
       "      <td>1.0</td>\n",
       "      <td>NaN</td>\n",
       "      <td>NaN</td>\n",
       "      <td>NaN</td>\n",
       "    </tr>\n",
       "    <tr>\n",
       "      <th>...</th>\n",
       "      <td>...</td>\n",
       "      <td>...</td>\n",
       "      <td>...</td>\n",
       "      <td>...</td>\n",
       "      <td>...</td>\n",
       "    </tr>\n",
       "    <tr>\n",
       "      <th>9258</th>\n",
       "      <td>19688</td>\n",
       "      <td>NaN</td>\n",
       "      <td>1.0</td>\n",
       "      <td>NaN</td>\n",
       "      <td>10.0</td>\n",
       "    </tr>\n",
       "    <tr>\n",
       "      <th>9259</th>\n",
       "      <td>19689</td>\n",
       "      <td>2.0</td>\n",
       "      <td>NaN</td>\n",
       "      <td>2.0</td>\n",
       "      <td>NaN</td>\n",
       "    </tr>\n",
       "    <tr>\n",
       "      <th>9260</th>\n",
       "      <td>19690</td>\n",
       "      <td>10.0</td>\n",
       "      <td>1.0</td>\n",
       "      <td>NaN</td>\n",
       "      <td>8.0</td>\n",
       "    </tr>\n",
       "    <tr>\n",
       "      <th>9261</th>\n",
       "      <td>19691</td>\n",
       "      <td>1.0</td>\n",
       "      <td>NaN</td>\n",
       "      <td>NaN</td>\n",
       "      <td>NaN</td>\n",
       "    </tr>\n",
       "    <tr>\n",
       "      <th>9262</th>\n",
       "      <td>19692</td>\n",
       "      <td>1.0</td>\n",
       "      <td>NaN</td>\n",
       "      <td>NaN</td>\n",
       "      <td>NaN</td>\n",
       "    </tr>\n",
       "  </tbody>\n",
       "</table>\n",
       "<p>9263 rows × 5 columns</p>\n",
       "</div>"
      ],
      "text/plain": [
       "category according to process mining  person_id  Consultation  Delivery  \\\n",
       "0                                         10429           4.0       NaN   \n",
       "1                                         10430          10.0       1.0   \n",
       "2                                         10431           9.0       1.0   \n",
       "3                                         10432           6.0       NaN   \n",
       "4                                         10433           1.0       NaN   \n",
       "...                                         ...           ...       ...   \n",
       "9258                                      19688           NaN       1.0   \n",
       "9259                                      19689           2.0       NaN   \n",
       "9260                                      19690          10.0       1.0   \n",
       "9261                                      19691           1.0       NaN   \n",
       "9262                                      19692           1.0       NaN   \n",
       "\n",
       "category according to process mining  Gynaecology  Obstetrics  \n",
       "0                                             3.0         NaN  \n",
       "1                                             NaN         8.0  \n",
       "2                                             NaN         7.0  \n",
       "3                                             NaN         6.0  \n",
       "4                                             NaN         NaN  \n",
       "...                                           ...         ...  \n",
       "9258                                          NaN        10.0  \n",
       "9259                                          2.0         NaN  \n",
       "9260                                          NaN         8.0  \n",
       "9261                                          NaN         NaN  \n",
       "9262                                          NaN         NaN  \n",
       "\n",
       "[9263 rows x 5 columns]"
      ]
     },
     "execution_count": 8,
     "metadata": {},
     "output_type": "execute_result"
    }
   ],
   "source": [
    "pivot"
   ]
  },
  {
   "cell_type": "markdown",
   "metadata": {
    "id": "cxHyxxCNiT45"
   },
   "source": [
    "**Replace blank cells with zero**"
   ]
  },
  {
   "cell_type": "code",
   "execution_count": 9,
   "metadata": {
    "id": "q2AxXgweiYID"
   },
   "outputs": [],
   "source": [
    "raw_data = pivot.fillna(0)"
   ]
  },
  {
   "cell_type": "markdown",
   "metadata": {
    "id": "iJ2ZgaESlmMy"
   },
   "source": [
    "**Inspect the new dataset**"
   ]
  },
  {
   "cell_type": "code",
   "execution_count": 10,
   "metadata": {
    "id": "GM3dfiF0c6GV"
   },
   "outputs": [
    {
     "data": {
      "text/html": [
       "<div>\n",
       "<style scoped>\n",
       "    .dataframe tbody tr th:only-of-type {\n",
       "        vertical-align: middle;\n",
       "    }\n",
       "\n",
       "    .dataframe tbody tr th {\n",
       "        vertical-align: top;\n",
       "    }\n",
       "\n",
       "    .dataframe thead th {\n",
       "        text-align: right;\n",
       "    }\n",
       "</style>\n",
       "<table border=\"1\" class=\"dataframe\">\n",
       "  <thead>\n",
       "    <tr style=\"text-align: right;\">\n",
       "      <th>category according to process mining</th>\n",
       "      <th>person_id</th>\n",
       "      <th>Consultation</th>\n",
       "      <th>Delivery</th>\n",
       "      <th>Gynaecology</th>\n",
       "      <th>Obstetrics</th>\n",
       "    </tr>\n",
       "  </thead>\n",
       "  <tbody>\n",
       "    <tr>\n",
       "      <th>0</th>\n",
       "      <td>10429</td>\n",
       "      <td>4.0</td>\n",
       "      <td>0.0</td>\n",
       "      <td>3.0</td>\n",
       "      <td>0.0</td>\n",
       "    </tr>\n",
       "    <tr>\n",
       "      <th>1</th>\n",
       "      <td>10430</td>\n",
       "      <td>10.0</td>\n",
       "      <td>1.0</td>\n",
       "      <td>0.0</td>\n",
       "      <td>8.0</td>\n",
       "    </tr>\n",
       "    <tr>\n",
       "      <th>2</th>\n",
       "      <td>10431</td>\n",
       "      <td>9.0</td>\n",
       "      <td>1.0</td>\n",
       "      <td>0.0</td>\n",
       "      <td>7.0</td>\n",
       "    </tr>\n",
       "    <tr>\n",
       "      <th>3</th>\n",
       "      <td>10432</td>\n",
       "      <td>6.0</td>\n",
       "      <td>0.0</td>\n",
       "      <td>0.0</td>\n",
       "      <td>6.0</td>\n",
       "    </tr>\n",
       "    <tr>\n",
       "      <th>4</th>\n",
       "      <td>10433</td>\n",
       "      <td>1.0</td>\n",
       "      <td>0.0</td>\n",
       "      <td>0.0</td>\n",
       "      <td>0.0</td>\n",
       "    </tr>\n",
       "    <tr>\n",
       "      <th>...</th>\n",
       "      <td>...</td>\n",
       "      <td>...</td>\n",
       "      <td>...</td>\n",
       "      <td>...</td>\n",
       "      <td>...</td>\n",
       "    </tr>\n",
       "    <tr>\n",
       "      <th>9258</th>\n",
       "      <td>19688</td>\n",
       "      <td>0.0</td>\n",
       "      <td>1.0</td>\n",
       "      <td>0.0</td>\n",
       "      <td>10.0</td>\n",
       "    </tr>\n",
       "    <tr>\n",
       "      <th>9259</th>\n",
       "      <td>19689</td>\n",
       "      <td>2.0</td>\n",
       "      <td>0.0</td>\n",
       "      <td>2.0</td>\n",
       "      <td>0.0</td>\n",
       "    </tr>\n",
       "    <tr>\n",
       "      <th>9260</th>\n",
       "      <td>19690</td>\n",
       "      <td>10.0</td>\n",
       "      <td>1.0</td>\n",
       "      <td>0.0</td>\n",
       "      <td>8.0</td>\n",
       "    </tr>\n",
       "    <tr>\n",
       "      <th>9261</th>\n",
       "      <td>19691</td>\n",
       "      <td>1.0</td>\n",
       "      <td>0.0</td>\n",
       "      <td>0.0</td>\n",
       "      <td>0.0</td>\n",
       "    </tr>\n",
       "    <tr>\n",
       "      <th>9262</th>\n",
       "      <td>19692</td>\n",
       "      <td>1.0</td>\n",
       "      <td>0.0</td>\n",
       "      <td>0.0</td>\n",
       "      <td>0.0</td>\n",
       "    </tr>\n",
       "  </tbody>\n",
       "</table>\n",
       "<p>9263 rows × 5 columns</p>\n",
       "</div>"
      ],
      "text/plain": [
       "category according to process mining  person_id  Consultation  Delivery  \\\n",
       "0                                         10429           4.0       0.0   \n",
       "1                                         10430          10.0       1.0   \n",
       "2                                         10431           9.0       1.0   \n",
       "3                                         10432           6.0       0.0   \n",
       "4                                         10433           1.0       0.0   \n",
       "...                                         ...           ...       ...   \n",
       "9258                                      19688           0.0       1.0   \n",
       "9259                                      19689           2.0       0.0   \n",
       "9260                                      19690          10.0       1.0   \n",
       "9261                                      19691           1.0       0.0   \n",
       "9262                                      19692           1.0       0.0   \n",
       "\n",
       "category according to process mining  Gynaecology  Obstetrics  \n",
       "0                                             3.0         0.0  \n",
       "1                                             0.0         8.0  \n",
       "2                                             0.0         7.0  \n",
       "3                                             0.0         6.0  \n",
       "4                                             0.0         0.0  \n",
       "...                                           ...         ...  \n",
       "9258                                          0.0        10.0  \n",
       "9259                                          2.0         0.0  \n",
       "9260                                          0.0         8.0  \n",
       "9261                                          0.0         0.0  \n",
       "9262                                          0.0         0.0  \n",
       "\n",
       "[9263 rows x 5 columns]"
      ]
     },
     "execution_count": 10,
     "metadata": {},
     "output_type": "execute_result"
    }
   ],
   "source": [
    "raw_data"
   ]
  },
  {
   "cell_type": "markdown",
   "metadata": {
    "id": "-wmI-A1TiZgR"
   },
   "source": [
    "**Retrieve the names of the columns**"
   ]
  },
  {
   "cell_type": "code",
   "execution_count": 11,
   "metadata": {
    "colab": {
     "base_uri": "https://localhost:8080/"
    },
    "id": "1xOl0FBlikzL",
    "outputId": "9cf87076-cdf7-4d93-f24f-7827d0aaa12c"
   },
   "outputs": [
    {
     "data": {
      "text/plain": [
       "Index(['person_id', 'Consultation', 'Delivery', 'Gynaecology', 'Obstetrics'], dtype='object', name='category according to process mining')"
      ]
     },
     "execution_count": 11,
     "metadata": {},
     "output_type": "execute_result"
    }
   ],
   "source": [
    "raw_data.columns"
   ]
  },
  {
   "cell_type": "markdown",
   "metadata": {
    "id": "rs8l6fEbimme"
   },
   "source": [
    "**Rearrange the columns to place the target variable at the end**"
   ]
  },
  {
   "cell_type": "code",
   "execution_count": 12,
   "metadata": {
    "id": "rRc-53GViwHv"
   },
   "outputs": [],
   "source": [
    "dataset = raw_data[['person_id', 'Consultation',  'Gynaecology', 'Obstetrics','Delivery']]"
   ]
  },
  {
   "cell_type": "markdown",
   "metadata": {
    "id": "t5vZcHfBixQh"
   },
   "source": [
    "**Inspect the new dataset**"
   ]
  },
  {
   "cell_type": "code",
   "execution_count": 13,
   "metadata": {
    "id": "PmHajZnEdD-P"
   },
   "outputs": [
    {
     "data": {
      "text/html": [
       "<div>\n",
       "<style scoped>\n",
       "    .dataframe tbody tr th:only-of-type {\n",
       "        vertical-align: middle;\n",
       "    }\n",
       "\n",
       "    .dataframe tbody tr th {\n",
       "        vertical-align: top;\n",
       "    }\n",
       "\n",
       "    .dataframe thead th {\n",
       "        text-align: right;\n",
       "    }\n",
       "</style>\n",
       "<table border=\"1\" class=\"dataframe\">\n",
       "  <thead>\n",
       "    <tr style=\"text-align: right;\">\n",
       "      <th>category according to process mining</th>\n",
       "      <th>person_id</th>\n",
       "      <th>Consultation</th>\n",
       "      <th>Gynaecology</th>\n",
       "      <th>Obstetrics</th>\n",
       "      <th>Delivery</th>\n",
       "    </tr>\n",
       "  </thead>\n",
       "  <tbody>\n",
       "    <tr>\n",
       "      <th>0</th>\n",
       "      <td>10429</td>\n",
       "      <td>4.0</td>\n",
       "      <td>3.0</td>\n",
       "      <td>0.0</td>\n",
       "      <td>0.0</td>\n",
       "    </tr>\n",
       "    <tr>\n",
       "      <th>1</th>\n",
       "      <td>10430</td>\n",
       "      <td>10.0</td>\n",
       "      <td>0.0</td>\n",
       "      <td>8.0</td>\n",
       "      <td>1.0</td>\n",
       "    </tr>\n",
       "    <tr>\n",
       "      <th>2</th>\n",
       "      <td>10431</td>\n",
       "      <td>9.0</td>\n",
       "      <td>0.0</td>\n",
       "      <td>7.0</td>\n",
       "      <td>1.0</td>\n",
       "    </tr>\n",
       "    <tr>\n",
       "      <th>3</th>\n",
       "      <td>10432</td>\n",
       "      <td>6.0</td>\n",
       "      <td>0.0</td>\n",
       "      <td>6.0</td>\n",
       "      <td>0.0</td>\n",
       "    </tr>\n",
       "    <tr>\n",
       "      <th>4</th>\n",
       "      <td>10433</td>\n",
       "      <td>1.0</td>\n",
       "      <td>0.0</td>\n",
       "      <td>0.0</td>\n",
       "      <td>0.0</td>\n",
       "    </tr>\n",
       "    <tr>\n",
       "      <th>...</th>\n",
       "      <td>...</td>\n",
       "      <td>...</td>\n",
       "      <td>...</td>\n",
       "      <td>...</td>\n",
       "      <td>...</td>\n",
       "    </tr>\n",
       "    <tr>\n",
       "      <th>9258</th>\n",
       "      <td>19688</td>\n",
       "      <td>0.0</td>\n",
       "      <td>0.0</td>\n",
       "      <td>10.0</td>\n",
       "      <td>1.0</td>\n",
       "    </tr>\n",
       "    <tr>\n",
       "      <th>9259</th>\n",
       "      <td>19689</td>\n",
       "      <td>2.0</td>\n",
       "      <td>2.0</td>\n",
       "      <td>0.0</td>\n",
       "      <td>0.0</td>\n",
       "    </tr>\n",
       "    <tr>\n",
       "      <th>9260</th>\n",
       "      <td>19690</td>\n",
       "      <td>10.0</td>\n",
       "      <td>0.0</td>\n",
       "      <td>8.0</td>\n",
       "      <td>1.0</td>\n",
       "    </tr>\n",
       "    <tr>\n",
       "      <th>9261</th>\n",
       "      <td>19691</td>\n",
       "      <td>1.0</td>\n",
       "      <td>0.0</td>\n",
       "      <td>0.0</td>\n",
       "      <td>0.0</td>\n",
       "    </tr>\n",
       "    <tr>\n",
       "      <th>9262</th>\n",
       "      <td>19692</td>\n",
       "      <td>1.0</td>\n",
       "      <td>0.0</td>\n",
       "      <td>0.0</td>\n",
       "      <td>0.0</td>\n",
       "    </tr>\n",
       "  </tbody>\n",
       "</table>\n",
       "<p>9263 rows × 5 columns</p>\n",
       "</div>"
      ],
      "text/plain": [
       "category according to process mining  person_id  Consultation  Gynaecology  \\\n",
       "0                                         10429           4.0          3.0   \n",
       "1                                         10430          10.0          0.0   \n",
       "2                                         10431           9.0          0.0   \n",
       "3                                         10432           6.0          0.0   \n",
       "4                                         10433           1.0          0.0   \n",
       "...                                         ...           ...          ...   \n",
       "9258                                      19688           0.0          0.0   \n",
       "9259                                      19689           2.0          2.0   \n",
       "9260                                      19690          10.0          0.0   \n",
       "9261                                      19691           1.0          0.0   \n",
       "9262                                      19692           1.0          0.0   \n",
       "\n",
       "category according to process mining  Obstetrics  Delivery  \n",
       "0                                            0.0       0.0  \n",
       "1                                            8.0       1.0  \n",
       "2                                            7.0       1.0  \n",
       "3                                            6.0       0.0  \n",
       "4                                            0.0       0.0  \n",
       "...                                          ...       ...  \n",
       "9258                                        10.0       1.0  \n",
       "9259                                         0.0       0.0  \n",
       "9260                                         8.0       1.0  \n",
       "9261                                         0.0       0.0  \n",
       "9262                                         0.0       0.0  \n",
       "\n",
       "[9263 rows x 5 columns]"
      ]
     },
     "execution_count": 13,
     "metadata": {},
     "output_type": "execute_result"
    }
   ],
   "source": [
    "dataset"
   ]
  },
  {
   "cell_type": "markdown",
   "metadata": {
    "id": "NcWh6Slp7Q8s"
   },
   "source": [
    "**Inspect if the target is binary**"
   ]
  },
  {
   "cell_type": "code",
   "execution_count": 14,
   "metadata": {
    "id": "J5Wz8RotdGK4"
   },
   "outputs": [
    {
     "data": {
      "text/plain": [
       "0.0    8110\n",
       "1.0    1143\n",
       "2.0      10\n",
       "Name: Delivery, dtype: int64"
      ]
     },
     "execution_count": 14,
     "metadata": {},
     "output_type": "execute_result"
    }
   ],
   "source": [
    "dataset.Delivery.value_counts()"
   ]
  },
  {
   "cell_type": "markdown",
   "metadata": {
    "id": "Gi0rK8ys7bIl"
   },
   "source": [
    "**Convert the target to binary values**"
   ]
  },
  {
   "cell_type": "code",
   "execution_count": 15,
   "metadata": {
    "id": "i0LoDxP_dVZD"
   },
   "outputs": [
    {
     "data": {
      "text/html": [
       "<div>\n",
       "<style scoped>\n",
       "    .dataframe tbody tr th:only-of-type {\n",
       "        vertical-align: middle;\n",
       "    }\n",
       "\n",
       "    .dataframe tbody tr th {\n",
       "        vertical-align: top;\n",
       "    }\n",
       "\n",
       "    .dataframe thead th {\n",
       "        text-align: right;\n",
       "    }\n",
       "</style>\n",
       "<table border=\"1\" class=\"dataframe\">\n",
       "  <thead>\n",
       "    <tr style=\"text-align: right;\">\n",
       "      <th>category according to process mining</th>\n",
       "      <th>person_id</th>\n",
       "      <th>Consultation</th>\n",
       "      <th>Gynaecology</th>\n",
       "      <th>Obstetrics</th>\n",
       "      <th>Delivery</th>\n",
       "      <th>Delivery_binary</th>\n",
       "    </tr>\n",
       "  </thead>\n",
       "  <tbody>\n",
       "    <tr>\n",
       "      <th>0</th>\n",
       "      <td>10429</td>\n",
       "      <td>4.0</td>\n",
       "      <td>3.0</td>\n",
       "      <td>0.0</td>\n",
       "      <td>0.0</td>\n",
       "      <td>0</td>\n",
       "    </tr>\n",
       "    <tr>\n",
       "      <th>1</th>\n",
       "      <td>10430</td>\n",
       "      <td>10.0</td>\n",
       "      <td>0.0</td>\n",
       "      <td>8.0</td>\n",
       "      <td>1.0</td>\n",
       "      <td>1</td>\n",
       "    </tr>\n",
       "    <tr>\n",
       "      <th>2</th>\n",
       "      <td>10431</td>\n",
       "      <td>9.0</td>\n",
       "      <td>0.0</td>\n",
       "      <td>7.0</td>\n",
       "      <td>1.0</td>\n",
       "      <td>1</td>\n",
       "    </tr>\n",
       "    <tr>\n",
       "      <th>3</th>\n",
       "      <td>10432</td>\n",
       "      <td>6.0</td>\n",
       "      <td>0.0</td>\n",
       "      <td>6.0</td>\n",
       "      <td>0.0</td>\n",
       "      <td>0</td>\n",
       "    </tr>\n",
       "    <tr>\n",
       "      <th>4</th>\n",
       "      <td>10433</td>\n",
       "      <td>1.0</td>\n",
       "      <td>0.0</td>\n",
       "      <td>0.0</td>\n",
       "      <td>0.0</td>\n",
       "      <td>0</td>\n",
       "    </tr>\n",
       "    <tr>\n",
       "      <th>...</th>\n",
       "      <td>...</td>\n",
       "      <td>...</td>\n",
       "      <td>...</td>\n",
       "      <td>...</td>\n",
       "      <td>...</td>\n",
       "      <td>...</td>\n",
       "    </tr>\n",
       "    <tr>\n",
       "      <th>9258</th>\n",
       "      <td>19688</td>\n",
       "      <td>0.0</td>\n",
       "      <td>0.0</td>\n",
       "      <td>10.0</td>\n",
       "      <td>1.0</td>\n",
       "      <td>1</td>\n",
       "    </tr>\n",
       "    <tr>\n",
       "      <th>9259</th>\n",
       "      <td>19689</td>\n",
       "      <td>2.0</td>\n",
       "      <td>2.0</td>\n",
       "      <td>0.0</td>\n",
       "      <td>0.0</td>\n",
       "      <td>0</td>\n",
       "    </tr>\n",
       "    <tr>\n",
       "      <th>9260</th>\n",
       "      <td>19690</td>\n",
       "      <td>10.0</td>\n",
       "      <td>0.0</td>\n",
       "      <td>8.0</td>\n",
       "      <td>1.0</td>\n",
       "      <td>1</td>\n",
       "    </tr>\n",
       "    <tr>\n",
       "      <th>9261</th>\n",
       "      <td>19691</td>\n",
       "      <td>1.0</td>\n",
       "      <td>0.0</td>\n",
       "      <td>0.0</td>\n",
       "      <td>0.0</td>\n",
       "      <td>0</td>\n",
       "    </tr>\n",
       "    <tr>\n",
       "      <th>9262</th>\n",
       "      <td>19692</td>\n",
       "      <td>1.0</td>\n",
       "      <td>0.0</td>\n",
       "      <td>0.0</td>\n",
       "      <td>0.0</td>\n",
       "      <td>0</td>\n",
       "    </tr>\n",
       "  </tbody>\n",
       "</table>\n",
       "<p>9263 rows × 6 columns</p>\n",
       "</div>"
      ],
      "text/plain": [
       "category according to process mining  person_id  Consultation  Gynaecology  \\\n",
       "0                                         10429           4.0          3.0   \n",
       "1                                         10430          10.0          0.0   \n",
       "2                                         10431           9.0          0.0   \n",
       "3                                         10432           6.0          0.0   \n",
       "4                                         10433           1.0          0.0   \n",
       "...                                         ...           ...          ...   \n",
       "9258                                      19688           0.0          0.0   \n",
       "9259                                      19689           2.0          2.0   \n",
       "9260                                      19690          10.0          0.0   \n",
       "9261                                      19691           1.0          0.0   \n",
       "9262                                      19692           1.0          0.0   \n",
       "\n",
       "category according to process mining  Obstetrics  Delivery  Delivery_binary  \n",
       "0                                            0.0       0.0                0  \n",
       "1                                            8.0       1.0                1  \n",
       "2                                            7.0       1.0                1  \n",
       "3                                            6.0       0.0                0  \n",
       "4                                            0.0       0.0                0  \n",
       "...                                          ...       ...              ...  \n",
       "9258                                        10.0       1.0                1  \n",
       "9259                                         0.0       0.0                0  \n",
       "9260                                         8.0       1.0                1  \n",
       "9261                                         0.0       0.0                0  \n",
       "9262                                         0.0       0.0                0  \n",
       "\n",
       "[9263 rows x 6 columns]"
      ]
     },
     "execution_count": 15,
     "metadata": {},
     "output_type": "execute_result"
    }
   ],
   "source": [
    "Data_with_binary_targets = dataset.copy()\n",
    "Binary = Data_with_binary_targets['Delivery_binary'] = np.where(Data_with_binary_targets['Delivery'] > 0, 1, 0)\n",
    "Data_with_binary_targets['Delivery_binary'] = Binary\n",
    "Data_with_binary_targets"
   ]
  },
  {
   "cell_type": "markdown",
   "metadata": {
    "id": "WLaiJVkkNBpc"
   },
   "source": [
    "**Confirm the binary values by counting the values in the target column**"
   ]
  },
  {
   "cell_type": "code",
   "execution_count": 16,
   "metadata": {
    "id": "OdYJMYKodXiq"
   },
   "outputs": [
    {
     "data": {
      "text/plain": [
       "0    8110\n",
       "1    1153\n",
       "Name: Delivery_binary, dtype: int64"
      ]
     },
     "execution_count": 16,
     "metadata": {},
     "output_type": "execute_result"
    }
   ],
   "source": [
    "Data_with_binary_targets.Delivery_binary.value_counts()"
   ]
  },
  {
   "cell_type": "markdown",
   "metadata": {
    "id": "Vx9MSLjC2mmi"
   },
   "source": [
    "**Remove the column 'Delivery' that is non-binary**"
   ]
  },
  {
   "cell_type": "code",
   "execution_count": 17,
   "metadata": {
    "id": "NzZx08BJ2xwX"
   },
   "outputs": [],
   "source": [
    "Dataframe = Data_with_binary_targets.drop(columns=['Delivery'])"
   ]
  },
  {
   "cell_type": "markdown",
   "metadata": {
    "id": "nD5hpCFHzbQv"
   },
   "source": [
    "**Assign the predictive variables (x1) and the target variable (y)**"
   ]
  },
  {
   "cell_type": "code",
   "execution_count": 18,
   "metadata": {
    "id": "JDLsu0XoUq6I"
   },
   "outputs": [],
   "source": [
    "x1 = Dataframe.iloc[:,1:-1]\n",
    "y = Dataframe.iloc[:,-1]\n"
   ]
  },
  {
   "cell_type": "markdown",
   "metadata": {
    "id": "Q_Tb5UjN0U0g"
   },
   "source": [
    "**Confirm x1**"
   ]
  },
  {
   "cell_type": "code",
   "execution_count": 19,
   "metadata": {
    "id": "_kGTRj31dZuX"
   },
   "outputs": [
    {
     "data": {
      "text/html": [
       "<div>\n",
       "<style scoped>\n",
       "    .dataframe tbody tr th:only-of-type {\n",
       "        vertical-align: middle;\n",
       "    }\n",
       "\n",
       "    .dataframe tbody tr th {\n",
       "        vertical-align: top;\n",
       "    }\n",
       "\n",
       "    .dataframe thead th {\n",
       "        text-align: right;\n",
       "    }\n",
       "</style>\n",
       "<table border=\"1\" class=\"dataframe\">\n",
       "  <thead>\n",
       "    <tr style=\"text-align: right;\">\n",
       "      <th>category according to process mining</th>\n",
       "      <th>Consultation</th>\n",
       "      <th>Gynaecology</th>\n",
       "      <th>Obstetrics</th>\n",
       "    </tr>\n",
       "  </thead>\n",
       "  <tbody>\n",
       "    <tr>\n",
       "      <th>0</th>\n",
       "      <td>4.0</td>\n",
       "      <td>3.0</td>\n",
       "      <td>0.0</td>\n",
       "    </tr>\n",
       "    <tr>\n",
       "      <th>1</th>\n",
       "      <td>10.0</td>\n",
       "      <td>0.0</td>\n",
       "      <td>8.0</td>\n",
       "    </tr>\n",
       "    <tr>\n",
       "      <th>2</th>\n",
       "      <td>9.0</td>\n",
       "      <td>0.0</td>\n",
       "      <td>7.0</td>\n",
       "    </tr>\n",
       "    <tr>\n",
       "      <th>3</th>\n",
       "      <td>6.0</td>\n",
       "      <td>0.0</td>\n",
       "      <td>6.0</td>\n",
       "    </tr>\n",
       "    <tr>\n",
       "      <th>4</th>\n",
       "      <td>1.0</td>\n",
       "      <td>0.0</td>\n",
       "      <td>0.0</td>\n",
       "    </tr>\n",
       "  </tbody>\n",
       "</table>\n",
       "</div>"
      ],
      "text/plain": [
       "category according to process mining  Consultation  Gynaecology  Obstetrics\n",
       "0                                              4.0          3.0         0.0\n",
       "1                                             10.0          0.0         8.0\n",
       "2                                              9.0          0.0         7.0\n",
       "3                                              6.0          0.0         6.0\n",
       "4                                              1.0          0.0         0.0"
      ]
     },
     "execution_count": 19,
     "metadata": {},
     "output_type": "execute_result"
    }
   ],
   "source": [
    "x1.head()"
   ]
  },
  {
   "cell_type": "markdown",
   "metadata": {
    "id": "tDx2NlG60WyK"
   },
   "source": [
    "**Confirm y**"
   ]
  },
  {
   "cell_type": "code",
   "execution_count": 20,
   "metadata": {
    "id": "msbE83nNdc3V"
   },
   "outputs": [
    {
     "data": {
      "text/plain": [
       "0    0\n",
       "1    1\n",
       "2    1\n",
       "3    0\n",
       "4    0\n",
       "Name: Delivery_binary, dtype: int64"
      ]
     },
     "execution_count": 20,
     "metadata": {},
     "output_type": "execute_result"
    }
   ],
   "source": [
    "y.head()"
   ]
  },
  {
   "cell_type": "code",
   "execution_count": 21,
   "metadata": {
    "id": "xPp-LciC1YuY"
   },
   "outputs": [],
   "source": [
    "x = sm.add_constant(x1)"
   ]
  },
  {
   "cell_type": "markdown",
   "metadata": {
    "id": "rgIDshK11cVY"
   },
   "source": [
    "**Apply logistic regression to the data**"
   ]
  },
  {
   "cell_type": "code",
   "execution_count": 22,
   "metadata": {
    "id": "XxvVNDaldfB1"
   },
   "outputs": [
    {
     "name": "stdout",
     "output_type": "stream",
     "text": [
      "Optimization terminated successfully.\n",
      "         Current function value: 0.166984\n",
      "         Iterations 8\n"
     ]
    }
   ],
   "source": [
    "reg_log = sm.Logit(y,x)\n",
    "results_log = reg_log.fit()"
   ]
  },
  {
   "cell_type": "markdown",
   "metadata": {
    "id": "9jSOIqHD1lBw"
   },
   "source": [
    "**Inspect the summary of the logistic regression**"
   ]
  },
  {
   "cell_type": "code",
   "execution_count": 23,
   "metadata": {
    "id": "VldAiWDIdgql"
   },
   "outputs": [
    {
     "data": {
      "text/html": [
       "<table class=\"simpletable\">\n",
       "<caption>Logit Regression Results</caption>\n",
       "<tr>\n",
       "  <th>Dep. Variable:</th>    <td>Delivery_binary</td> <th>  No. Observations:  </th>  <td>  9263</td> \n",
       "</tr>\n",
       "<tr>\n",
       "  <th>Model:</th>                 <td>Logit</td>      <th>  Df Residuals:      </th>  <td>  9259</td> \n",
       "</tr>\n",
       "<tr>\n",
       "  <th>Method:</th>                 <td>MLE</td>       <th>  Df Model:          </th>  <td>     3</td> \n",
       "</tr>\n",
       "<tr>\n",
       "  <th>Date:</th>            <td>Mon, 16 Oct 2023</td> <th>  Pseudo R-squ.:     </th>  <td>0.5556</td> \n",
       "</tr>\n",
       "<tr>\n",
       "  <th>Time:</th>                <td>11:54:30</td>     <th>  Log-Likelihood:    </th> <td> -1546.8</td>\n",
       "</tr>\n",
       "<tr>\n",
       "  <th>converged:</th>             <td>True</td>       <th>  LL-Null:           </th> <td> -3480.5</td>\n",
       "</tr>\n",
       "<tr>\n",
       "  <th>Covariance Type:</th>     <td>nonrobust</td>    <th>  LLR p-value:       </th>  <td> 0.000</td> \n",
       "</tr>\n",
       "</table>\n",
       "<table class=\"simpletable\">\n",
       "<tr>\n",
       "        <td></td>          <th>coef</th>     <th>std err</th>      <th>z</th>      <th>P>|z|</th>  <th>[0.025</th>    <th>0.975]</th>  \n",
       "</tr>\n",
       "<tr>\n",
       "  <th>const</th>        <td>   -3.2369</td> <td>    0.081</td> <td>  -39.811</td> <td> 0.000</td> <td>   -3.396</td> <td>   -3.078</td>\n",
       "</tr>\n",
       "<tr>\n",
       "  <th>Consultation</th> <td>    0.0278</td> <td>    0.017</td> <td>    1.614</td> <td> 0.107</td> <td>   -0.006</td> <td>    0.061</td>\n",
       "</tr>\n",
       "<tr>\n",
       "  <th>Gynaecology</th>  <td>   -0.7065</td> <td>    0.067</td> <td>  -10.552</td> <td> 0.000</td> <td>   -0.838</td> <td>   -0.575</td>\n",
       "</tr>\n",
       "<tr>\n",
       "  <th>Obstetrics</th>   <td>    0.6712</td> <td>    0.021</td> <td>   31.271</td> <td> 0.000</td> <td>    0.629</td> <td>    0.713</td>\n",
       "</tr>\n",
       "</table>"
      ],
      "text/plain": [
       "<class 'statsmodels.iolib.summary.Summary'>\n",
       "\"\"\"\n",
       "                           Logit Regression Results                           \n",
       "==============================================================================\n",
       "Dep. Variable:        Delivery_binary   No. Observations:                 9263\n",
       "Model:                          Logit   Df Residuals:                     9259\n",
       "Method:                           MLE   Df Model:                            3\n",
       "Date:                Mon, 16 Oct 2023   Pseudo R-squ.:                  0.5556\n",
       "Time:                        11:54:30   Log-Likelihood:                -1546.8\n",
       "converged:                       True   LL-Null:                       -3480.5\n",
       "Covariance Type:            nonrobust   LLR p-value:                     0.000\n",
       "================================================================================\n",
       "                   coef    std err          z      P>|z|      [0.025      0.975]\n",
       "--------------------------------------------------------------------------------\n",
       "const           -3.2369      0.081    -39.811      0.000      -3.396      -3.078\n",
       "Consultation     0.0278      0.017      1.614      0.107      -0.006       0.061\n",
       "Gynaecology     -0.7065      0.067    -10.552      0.000      -0.838      -0.575\n",
       "Obstetrics       0.6712      0.021     31.271      0.000       0.629       0.713\n",
       "================================================================================\n",
       "\"\"\""
      ]
     },
     "execution_count": 23,
     "metadata": {},
     "output_type": "execute_result"
    }
   ],
   "source": [
    "results_log.summary()"
   ]
  },
  {
   "cell_type": "markdown",
   "metadata": {
    "id": "oUw3PV1qr0cu"
   },
   "source": [
    "**Evaluate the results with a confusion matrix**"
   ]
  },
  {
   "cell_type": "code",
   "execution_count": 24,
   "metadata": {
    "id": "YO2Wkmk5dn_V"
   },
   "outputs": [
    {
     "data": {
      "text/html": [
       "<div>\n",
       "<style scoped>\n",
       "    .dataframe tbody tr th:only-of-type {\n",
       "        vertical-align: middle;\n",
       "    }\n",
       "\n",
       "    .dataframe tbody tr th {\n",
       "        vertical-align: top;\n",
       "    }\n",
       "\n",
       "    .dataframe thead th {\n",
       "        text-align: right;\n",
       "    }\n",
       "</style>\n",
       "<table border=\"1\" class=\"dataframe\">\n",
       "  <thead>\n",
       "    <tr style=\"text-align: right;\">\n",
       "      <th></th>\n",
       "      <th>Predicted 0</th>\n",
       "      <th>Predicted 1</th>\n",
       "    </tr>\n",
       "  </thead>\n",
       "  <tbody>\n",
       "    <tr>\n",
       "      <th>Actual 0</th>\n",
       "      <td>7909.0</td>\n",
       "      <td>201.0</td>\n",
       "    </tr>\n",
       "    <tr>\n",
       "      <th>Actual 1</th>\n",
       "      <td>398.0</td>\n",
       "      <td>755.0</td>\n",
       "    </tr>\n",
       "  </tbody>\n",
       "</table>\n",
       "</div>"
      ],
      "text/plain": [
       "          Predicted 0  Predicted 1\n",
       "Actual 0       7909.0        201.0\n",
       "Actual 1        398.0        755.0"
      ]
     },
     "execution_count": 24,
     "metadata": {},
     "output_type": "execute_result"
    }
   ],
   "source": [
    "cm = results_log.pred_table()\n",
    "cm_df = pd.DataFrame(cm)\n",
    "cm_df.columns = ['Predicted 0', 'Predicted 1']\n",
    "cm_df = cm_df.rename(index={0:'Actual 0', 1:'Actual 1'})\n",
    "cm_df  "
   ]
  },
  {
   "cell_type": "markdown",
   "metadata": {
    "id": "PqvLI-Eqr4qu"
   },
   "source": [
    "**Calculate the accuracy of the model**"
   ]
  },
  {
   "cell_type": "code",
   "execution_count": 25,
   "metadata": {
    "id": "Aj0Eo71FJNrg"
   },
   "outputs": [
    {
     "data": {
      "text/plain": [
       "0.9353341250134946"
      ]
     },
     "execution_count": 25,
     "metadata": {},
     "output_type": "execute_result"
    }
   ],
   "source": [
    "(cm[0,0]+cm[1,1])/np.sum([cm])  "
   ]
  },
  {
   "cell_type": "code",
   "execution_count": null,
   "metadata": {},
   "outputs": [],
   "source": []
  }
 ],
 "metadata": {
  "colab": {
   "name": "Logistic regression with a different categorization.ipynb",
   "provenance": []
  },
  "kernelspec": {
   "display_name": "Python 3 (ipykernel)",
   "language": "python",
   "name": "python3"
  },
  "language_info": {
   "codemirror_mode": {
    "name": "ipython",
    "version": 3
   },
   "file_extension": ".py",
   "mimetype": "text/x-python",
   "name": "python",
   "nbconvert_exporter": "python",
   "pygments_lexer": "ipython3",
   "version": "3.9.13"
  }
 },
 "nbformat": 4,
 "nbformat_minor": 1
}
